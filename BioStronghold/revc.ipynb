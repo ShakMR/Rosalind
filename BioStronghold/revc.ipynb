{
 "cells": [
  {
   "cell_type": "code",
   "execution_count": 1,
   "metadata": {
    "collapsed": true
   },
   "outputs": [],
   "source": [
    "from Utils.get_lines import get_lines"
   ]
  },
  {
   "cell_type": "code",
   "execution_count": 2,
   "outputs": [],
   "source": [
    "dataset_file = 'rosalind_revc.txt'"
   ],
   "metadata": {
    "collapsed": false,
    "pycharm": {
     "name": "#%%\n"
    }
   }
  },
  {
   "cell_type": "code",
   "execution_count": 3,
   "outputs": [],
   "source": [
    "dna = get_lines(dataset_file)[0]"
   ],
   "metadata": {
    "collapsed": false,
    "pycharm": {
     "name": "#%%\n"
    }
   }
  },
  {
   "cell_type": "code",
   "execution_count": 4,
   "outputs": [],
   "source": [
    "complements = {\n",
    "    'A': 'T',\n",
    "    'C': 'G',\n",
    "    'T': 'A',\n",
    "    'G': 'C'\n",
    "}"
   ],
   "metadata": {
    "collapsed": false,
    "pycharm": {
     "name": "#%%\n"
    }
   }
  },
  {
   "cell_type": "code",
   "execution_count": 5,
   "outputs": [
    {
     "name": "stdout",
     "output_type": "stream",
     "text": [
      "CATCGTAATTACTATCCCGACAGAGTGTTCGTATCTTGTGAGTTCCTCACGGCCGTCGCGGTTCAGTAATCTCGGCACCTACGTTGGTGTATTTTTATAACACCAGACTATTGCACGGCGTAGACGAGGTCACCAGCGCGAATTAACTTGTAACAAGAGTGGCTGAAGGCTCATTCCCCGAGCGCGGTCCACGCACGGCGAATCACGATGCAGGGTCCCCACTCAGATTAACCGAATGGATTACTTCTCTTTGGAGCTAGCGAAGGTTAGGACAAAGATTACGACTAATCCTTTATTTACACGCGACTTCTCCCGGCGGTGAACCTGATAATGATCATACACGCTAGTAATGCAGACGTGTTTCATATCTCACTCTCCCGGGGCCCACAAGAGACATTACAATGAGCTATCGGTCATCGAAGTGACGCGTACCGCCTTCATGTCAACACGAGTCTGCATTCCCTCTGGGATAGTAATTCAGTTCAGTTTCGCGATTGCCGGGGAAGGGAACCTGCTTGTTGTGTTGGATGATTCATTACCCCCGGTATGAATATGCGCTGCCTGTGCAGGCTCATATCCGTAGGGGCTGGTCCTTGCTTTTTAACACAGACTCTGCGGGGCGCGAATGTTCGCATCTAGGCTTCTGTGCTAGCTACCCGGCCGGGCCTGCGAATTCCATCCCATAGATATGGTTTGATAACGTTAGTTGTTTCGAGGTTGATGCGTGGGCCATTGCCCCAGCGTTGGCCATCACCGACACTAGCGCCATAACAGTCTCTCCAGTTAGAGATGGTAACGGTCGGGGTCTGTCACTGTAACGCATTGCA\n"
     ]
    }
   ],
   "source": [
    "comp = ''\n",
    "\n",
    "for e in dna:\n",
    "    comp = (complements[e]) + comp\n",
    "\n",
    "print(comp)"
   ],
   "metadata": {
    "collapsed": false,
    "pycharm": {
     "name": "#%%\n"
    }
   }
  },
  {
   "cell_type": "code",
   "execution_count": 5,
   "outputs": [],
   "source": [
    "\n"
   ],
   "metadata": {
    "collapsed": false,
    "pycharm": {
     "name": "#%%\n"
    }
   }
  }
 ],
 "metadata": {
  "kernelspec": {
   "display_name": "Python 3",
   "language": "python",
   "name": "python3"
  },
  "language_info": {
   "codemirror_mode": {
    "name": "ipython",
    "version": 2
   },
   "file_extension": ".py",
   "mimetype": "text/x-python",
   "name": "python",
   "nbconvert_exporter": "python",
   "pygments_lexer": "ipython2",
   "version": "2.7.6"
  }
 },
 "nbformat": 4,
 "nbformat_minor": 0
}