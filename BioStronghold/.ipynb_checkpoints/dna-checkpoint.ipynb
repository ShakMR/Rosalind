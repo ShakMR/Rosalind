{
 "cells": [
  {
   "cell_type": "code",
   "execution_count": 1,
   "metadata": {
    "collapsed": true
   },
   "outputs": [],
   "source": [
    "from Utils.get_lines import get_lines"
   ]
  },
  {
   "cell_type": "code",
   "execution_count": 9,
   "outputs": [],
   "source": [
    "dataset_file = 'rosalind_dna.txt'"
   ],
   "metadata": {
    "collapsed": false,
    "pycharm": {
     "name": "#%%\n"
    }
   }
  },
  {
   "cell_type": "code",
   "execution_count": 10,
   "outputs": [],
   "source": [
    "dna = get_lines(dataset_file)[0]"
   ],
   "metadata": {
    "collapsed": false,
    "pycharm": {
     "name": "#%%\n"
    }
   }
  },
  {
   "cell_type": "code",
   "execution_count": 11,
   "outputs": [
    {
     "data": {
      "text/plain": "'TAGTGTAGACGACATCGCCTAAGCAGAAAGCAGCTCCTACTTCGCCGATATTATTAAGCTACTGGTTTCTCCATACACTTTCCTTGCGGACTCGCCGGGGTGTTTCGAGGTTCTCATCAAGCGGGAAAACCAGAACTTGGGGTCCGCTTGAAAAGTCATGCCAAGCCCGGTTTAAAGTTGCCCGGCAGCACACCTCCACACACCTGGTTACCAACGCATCGGACTACTCTGCGGTCCGTGCTCTTTTAGAGTAATGGCACTAGATCAGTATTCAAGACTGTTCATATTGTGGCCAGACTAGGAGACGTTCTTGTACAGACATGGCAATTGCAACCCTTGCTGAACCTCGGGTCTGAGTACCTCACTAAGAGGGTCGATGAGCAATTTGGGACTTGTGTGCTATGGGTCCGCGTGTAAACCCGCGACCGGAAACACTACGCCGACATGTTCTGAGAGGAACTCCCGGATGCCGGACCGAGTTTCAGAGCTCAAGTACGTTGTGAGCTGCACTATGTAAAAGGAGACGTGTTCCGGTTCCCACGTAAGTCACTTGATCAGATATGTGTTCTTTAGATCACAAAAGTAATCACGTAGACGCATCCAAAGGCACAATCGGGCCCACGCATCAGTCTTGAATCCTGACCATCTGGCCAATTCGAATGAGTTAATTGTAAATCCCTTTTAGATCAGACCCGATGGGGTTCTTTAAGACTAGCCACACCCTAGCTGTGGCAGACCACGCCCCAGAGGAGAATGGGTAATAATAACAATTCCAGAGGTCGTTTGGGTTTCGAACGTAAATGCATGGCAACGTAGTTGCTTATGGAGCGTAATGCACAGGGGACCGGTACCGCACCC\\n'"
     },
     "execution_count": 11,
     "metadata": {},
     "output_type": "execute_result"
    }
   ],
   "source": [
    "dna"
   ],
   "metadata": {
    "collapsed": false,
    "pycharm": {
     "name": "#%%\n"
    }
   }
  },
  {
   "cell_type": "code",
   "execution_count": 12,
   "outputs": [],
   "source": [
    "d = {}"
   ],
   "metadata": {
    "collapsed": false,
    "pycharm": {
     "name": "#%%\n"
    }
   }
  },
  {
   "cell_type": "code",
   "execution_count": 13,
   "outputs": [],
   "source": [
    "for e in dna:\n",
    "    if e in d:\n",
    "        d[e] += 1\n",
    "    else:\n",
    "        d[e] = 1"
   ],
   "metadata": {
    "collapsed": false,
    "pycharm": {
     "name": "#%%\n"
    }
   }
  },
  {
   "cell_type": "code",
   "execution_count": 14,
   "outputs": [
    {
     "name": "stdout",
     "output_type": "stream",
     "text": [
      "221 216 213 208\n"
     ]
    }
   ],
   "source": [
    "print(d['A'], d['C'], d['G'], d['T'])"
   ],
   "metadata": {
    "collapsed": false,
    "pycharm": {
     "name": "#%%\n"
    }
   }
  },
  {
   "cell_type": "code",
   "execution_count": null,
   "outputs": [],
   "source": [
    "\n"
   ],
   "metadata": {
    "collapsed": false,
    "pycharm": {
     "name": "#%%\n"
    }
   }
  }
 ],
 "metadata": {
  "kernelspec": {
   "display_name": "Python 3",
   "language": "python",
   "name": "python3"
  },
  "language_info": {
   "codemirror_mode": {
    "name": "ipython",
    "version": 2
   },
   "file_extension": ".py",
   "mimetype": "text/x-python",
   "name": "python",
   "nbconvert_exporter": "python",
   "pygments_lexer": "ipython2",
   "version": "2.7.6"
  }
 },
 "nbformat": 4,
 "nbformat_minor": 0
}