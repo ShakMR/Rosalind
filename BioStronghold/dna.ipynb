{
 "cells": [
  {
   "cell_type": "code",
   "execution_count": 1,
   "metadata": {
    "collapsed": true,
    "jupyter": {
     "outputs_hidden": true
    }
   },
   "outputs": [],
   "source": [
    "from Utils.get_lines import get_lines"
   ]
  },
  {
   "cell_type": "code",
   "execution_count": 9,
   "metadata": {
    "collapsed": false,
    "jupyter": {
     "outputs_hidden": false
    },
    "pycharm": {
     "name": "#%%\n"
    }
   },
   "outputs": [],
   "source": [
    "dataset_file = 'rosalind_dna.txt'"
   ]
  },
  {
   "cell_type": "code",
   "execution_count": 10,
   "metadata": {
    "collapsed": false,
    "jupyter": {
     "outputs_hidden": false
    },
    "pycharm": {
     "name": "#%%\n"
    }
   },
   "outputs": [],
   "source": [
    "dna = get_lines(dataset_file)[0]"
   ]
  },
  {
   "cell_type": "code",
   "execution_count": 11,
   "metadata": {
    "collapsed": false,
    "jupyter": {
     "outputs_hidden": false
    },
    "pycharm": {
     "name": "#%%\n"
    }
   },
   "outputs": [
    {
     "data": {
      "text/plain": [
       "'TAGTGTAGACGACATCGCCTAAGCAGAAAGCAGCTCCTACTTCGCCGATATTATTAAGCTACTGGTTTCTCCATACACTTTCCTTGCGGACTCGCCGGGGTGTTTCGAGGTTCTCATCAAGCGGGAAAACCAGAACTTGGGGTCCGCTTGAAAAGTCATGCCAAGCCCGGTTTAAAGTTGCCCGGCAGCACACCTCCACACACCTGGTTACCAACGCATCGGACTACTCTGCGGTCCGTGCTCTTTTAGAGTAATGGCACTAGATCAGTATTCAAGACTGTTCATATTGTGGCCAGACTAGGAGACGTTCTTGTACAGACATGGCAATTGCAACCCTTGCTGAACCTCGGGTCTGAGTACCTCACTAAGAGGGTCGATGAGCAATTTGGGACTTGTGTGCTATGGGTCCGCGTGTAAACCCGCGACCGGAAACACTACGCCGACATGTTCTGAGAGGAACTCCCGGATGCCGGACCGAGTTTCAGAGCTCAAGTACGTTGTGAGCTGCACTATGTAAAAGGAGACGTGTTCCGGTTCCCACGTAAGTCACTTGATCAGATATGTGTTCTTTAGATCACAAAAGTAATCACGTAGACGCATCCAAAGGCACAATCGGGCCCACGCATCAGTCTTGAATCCTGACCATCTGGCCAATTCGAATGAGTTAATTGTAAATCCCTTTTAGATCAGACCCGATGGGGTTCTTTAAGACTAGCCACACCCTAGCTGTGGCAGACCACGCCCCAGAGGAGAATGGGTAATAATAACAATTCCAGAGGTCGTTTGGGTTTCGAACGTAAATGCATGGCAACGTAGTTGCTTATGGAGCGTAATGCACAGGGGACCGGTACCGCACCC\\n'"
      ]
     },
     "execution_count": 11,
     "metadata": {},
     "output_type": "execute_result"
    }
   ],
   "source": [
    "dna"
   ]
  },
  {
   "cell_type": "code",
   "execution_count": 12,
   "metadata": {
    "collapsed": false,
    "jupyter": {
     "outputs_hidden": false
    },
    "pycharm": {
     "name": "#%%\n"
    }
   },
   "outputs": [],
   "source": [
    "d = {}"
   ]
  },
  {
   "cell_type": "code",
   "execution_count": 13,
   "metadata": {
    "collapsed": false,
    "jupyter": {
     "outputs_hidden": false
    },
    "pycharm": {
     "name": "#%%\n"
    }
   },
   "outputs": [],
   "source": [
    "for e in dna:\n",
    "    if e in d:\n",
    "        d[e] += 1\n",
    "    else:\n",
    "        d[e] = 1"
   ]
  },
  {
   "cell_type": "code",
   "execution_count": 14,
   "metadata": {
    "collapsed": false,
    "jupyter": {
     "outputs_hidden": false
    },
    "pycharm": {
     "name": "#%%\n"
    }
   },
   "outputs": [
    {
     "name": "stdout",
     "output_type": "stream",
     "text": [
      "221 216 213 208\n"
     ]
    }
   ],
   "source": [
    "print(d['A'], d['C'], d['G'], d['T'])"
   ]
  },
  {
   "cell_type": "code",
   "execution_count": null,
   "metadata": {
    "collapsed": false,
    "jupyter": {
     "outputs_hidden": false
    },
    "pycharm": {
     "name": "#%%\n"
    }
   },
   "outputs": [],
   "source": [
    "\n"
   ]
  }
 ],
 "metadata": {
  "kernelspec": {
   "display_name": "Python 3",
   "language": "python",
   "name": "python3"
  },
  "language_info": {
   "codemirror_mode": {
    "name": "ipython",
    "version": 3
   },
   "file_extension": ".py",
   "mimetype": "text/x-python",
   "name": "python",
   "nbconvert_exporter": "python",
   "pygments_lexer": "ipython3",
   "version": "3.8.3"
  }
 },
 "nbformat": 4,
 "nbformat_minor": 4
}
