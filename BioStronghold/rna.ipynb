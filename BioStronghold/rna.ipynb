{
 "cells": [
  {
   "cell_type": "code",
   "execution_count": 1,
   "metadata": {
    "collapsed": true
   },
   "outputs": [],
   "source": [
    "from Utils.get_lines import get_lines"
   ]
  },
  {
   "cell_type": "code",
   "execution_count": 2,
   "outputs": [],
   "source": [
    "dataset_file = 'rosalind_rna.txt'"
   ],
   "metadata": {
    "collapsed": false,
    "pycharm": {
     "name": "#%%\n"
    }
   }
  },
  {
   "cell_type": "code",
   "execution_count": 3,
   "outputs": [],
   "source": [
    "dna = get_lines(dataset_file)[0]"
   ],
   "metadata": {
    "collapsed": false,
    "pycharm": {
     "name": "#%%\n"
    }
   }
  },
  {
   "cell_type": "code",
   "execution_count": 4,
   "outputs": [],
   "source": [
    "rna = dna.replace('T', 'U')"
   ],
   "metadata": {
    "collapsed": false,
    "pycharm": {
     "name": "#%%\n"
    }
   }
  },
  {
   "cell_type": "code",
   "execution_count": 5,
   "outputs": [
    {
     "name": "stdout",
     "output_type": "stream",
     "text": [
      "GGUAAUCUAGCGGGCUCGUCUAACUCCUUACGCGCCCGAACUCUGCACGACUUGUAUGAAGGUAGCCACAUAUAGGUGCGAUCAACCCUGGAUUGAAGAUGGCAAAUCGGGGCGGACUAUCGGGUGAGUUGAAAUCAAUUCUAUCGCAUUAGUCUAUUACAGGCGUUCUGCUGGAGGUGCUUUGGACCUUCCAAGACGAAGUGUUACCAUUAGACUGUAGCAGUAAGGACGUAUUUCACUGGUCGGCGCUAUAUGAUAUUUAAAACACCGUUCUGCUAUGACCUCUUGUUAAUCCAAUAUGUUGAUGGUUCUCACGUCUGCUAGAUGCCUAUCGACAGCCCUCGACAUUACCCUGCCGUUCAAUCGAUAGCCCUAGCACCGGCCAUCGGGAAGUAAUCUGAGUCCCCUUCUAUGGUCGACGCAGGGCGGAGCCUAUUCUUCAUUUAUGGGAGUUCCUAAAUUGUAAAACAACAUGAAGUGCAACAAAGGCGUUCCGGACCCUCUGUGCAGAAGUCUGGAUUUGCUUGGCCGGCAGGGGAAGCUAAGCGGCACAGGACAUGUGCGCCACUAAGUUCUACGAUUCAGGAUUCGCGAGCCCAGCAUUGCGCCGGGCGUUGCGUGUUGUGUUUGGGCGAACUCAAGUUCUGUAAUACGGGAAGCCUCGGUUGGCUUCAUACGCAUAGACACCAACCGGAGAUAUGGCGUGUUGCAGACUCCUACCAAGGUGUUCCAUUGAUGGAGGCGAUGACUAACCUUUGUAAAAAUGACAUGCCGAGUUGUACCAACAUGCCUGGCAGAUAAAUACCUGAGUGCGCCGGCUUGCUCCAGUUAGAUCAUCUUUGUUAAUUAUUGAAAAGUAGCCACUGAGUCGGAUCUUGUGUUGGAAGGUUCUGCAUUAUGGAUGUGUAGCAAACCCCUAGAGAGCAUUGCAGUCCAA\n"
     ]
    }
   ],
   "source": [
    "print(rna)"
   ],
   "metadata": {
    "collapsed": false,
    "pycharm": {
     "name": "#%%\n"
    }
   }
  },
  {
   "cell_type": "code",
   "execution_count": 5,
   "outputs": [],
   "source": [
    "\n"
   ],
   "metadata": {
    "collapsed": false,
    "pycharm": {
     "name": "#%%\n"
    }
   }
  }
 ],
 "metadata": {
  "kernelspec": {
   "display_name": "Python 3",
   "language": "python",
   "name": "python3"
  },
  "language_info": {
   "codemirror_mode": {
    "name": "ipython",
    "version": 2
   },
   "file_extension": ".py",
   "mimetype": "text/x-python",
   "name": "python",
   "nbconvert_exporter": "python",
   "pygments_lexer": "ipython2",
   "version": "2.7.6"
  }
 },
 "nbformat": 4,
 "nbformat_minor": 0
}